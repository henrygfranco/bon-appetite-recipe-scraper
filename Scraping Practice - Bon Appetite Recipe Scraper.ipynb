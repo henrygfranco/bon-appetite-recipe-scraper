{
 "cells": [
  {
   "cell_type": "code",
   "execution_count": 27,
   "metadata": {},
   "outputs": [],
   "source": [
    "def GetRecipe():\n",
    "    import requests\n",
    "    import numpy as np\n",
    "    import pandas as pd\n",
    "\n",
    "    from pandas import Series,DataFrame\n",
    "    from numpy.random import randn\n",
    "    from bs4 import BeautifulSoup\n",
    "\n",
    "    url = input('\\033[1m' + \"Copy + paste your Bon Appetite recipe URL here: \")\n",
    "    print('\\n\\n')\n",
    "    r = requests.get(url)\n",
    "    soup = BeautifulSoup(r.content, 'html.parser')\n",
    "    \n",
    "    ingredients = soup.find_all('li',class_='ingredient')\n",
    "    steps = soup.find_all('li',class_=\"step\")\n",
    "    \n",
    "    ingredients_list = []\n",
    "    for ingredient in ingredients:\n",
    "        ingredients_list.append(ingredient.text.strip())\n",
    "\n",
    "    steps_list = []\n",
    "    for step in steps:\n",
    "        steps_list.append(step.text.strip())\n",
    "    \n",
    "    # Here we print the ingredients and steps.\n",
    "    print('\\033[1m' + \"Here is the ingredients list:\\n\")\n",
    "    for ingredient in ingredients_list:\n",
    "        print('\\033[0m' + ingredient)\n",
    "    print('\\033[1m' + '\\n\\nHere is the list of steps:\\n')\n",
    "    i = 0\n",
    "    for step in steps_list:\n",
    "        print('\\033[0m')\n",
    "        print(f\"Step {i}: \\n{step}\")\n",
    "        i+=1"
   ]
  },
  {
   "cell_type": "code",
   "execution_count": null,
   "metadata": {},
   "outputs": [],
   "source": []
  }
 ],
 "metadata": {
  "kernelspec": {
   "display_name": "Python 3",
   "language": "python",
   "name": "python3"
  },
  "language_info": {
   "codemirror_mode": {
    "name": "ipython",
    "version": 3
   },
   "file_extension": ".py",
   "mimetype": "text/x-python",
   "name": "python",
   "nbconvert_exporter": "python",
   "pygments_lexer": "ipython3",
   "version": "3.6.5"
  }
 },
 "nbformat": 4,
 "nbformat_minor": 2
}
